{
 "cells": [
  {
   "cell_type": "markdown",
   "id": "7994b449",
   "metadata": {},
   "source": [
    "# NEEM Visualization\n",
    "The NEEM Evaluator also provides tools to visualize the content of a NEEM. In particular it is possible to visualize the semantic events of the NEEM behaviour on a timeline. As well as the trajectory of different objects during the execution of the task."
   ]
  },
  {
   "cell_type": "markdown",
   "id": "226e073a",
   "metadata": {},
   "source": [
    "## Visualize the semantic events \n",
    "To visualize the semantic events of the NEEM behaviour on a timeline, you need to create a Python Neem instance. This can either be from a serialized JSON file or from a NEEM loaded into Knowrob. In this example we will use the NEEM loaded into Knowrob."
   ]
  },
  {
   "cell_type": "code",
   "execution_count": 1,
   "id": "6b6c1f43",
   "metadata": {},
   "outputs": [
    {
     "name": "stdout",
     "output_type": "stream",
     "text": [
      "[INFO] [1705332415.306088]: NEEM Object: NaturalPerson_CTYBCZBF has no tf_link_name therefore no tf pointer could be loaded\n",
      "[INFO] [1705332415.364477]: NEEM Object: NaturalPerson_CTYBCZBF has no tf_link_name therefore no tf pointer could be loaded\n",
      "[INFO] [1705332415.422668]: NEEM Object: NaturalPerson_CTYBCZBF has no tf_link_name therefore no tf pointer could be loaded\n",
      "[INFO] [1705332415.448311]: NEEM Object: NaturalPerson_CTYBCZBF has no tf_link_name therefore no tf pointer could be loaded\n",
      "[INFO] [1705332415.473849]: NEEM Object: NaturalPerson_CTYBCZBF has no tf_link_name therefore no tf pointer could be loaded\n",
      "[INFO] [1705332415.497394]: NEEM Object: NaturalPerson_CTYBCZBF has no tf_link_name therefore no tf pointer could be loaded\n",
      "[INFO] [1705332415.523453]: NEEM Object: NaturalPerson_CTYBCZBF has no tf_link_name therefore no tf pointer could be loaded\n",
      "[INFO] [1705332415.570393]: NEEM Object: TopRightDirection_1 has no tf_link_name therefore no tf pointer could be loaded\n",
      "[INFO] [1705332415.588053]: NEEM Object: NaturalPerson_CTYBCZBF has no tf_link_name therefore no tf pointer could be loaded\n",
      "[INFO] [1705332415.634173]: NEEM Object: TopRightDirection_1 has no tf_link_name therefore no tf pointer could be loaded\n",
      "['PhysicalTask', 'Pouring', 'Reaching', 'Grasping']\n"
     ]
    },
    {
     "data": {
      "image/png": "[encoded data removed]",
      "text/plain": [
       "<Figure size 640x480 with 1 Axes>"
      ]
     },
     "metadata": {},
     "output_type": "display_data"
    }
   ],
   "source": [
    "from neem_evaluator.neem import Neem\n",
    "from neem_evaluator.events import plot_events\n",
    "from neem_evaluator.knowrob import remember_neem\n",
    "\n",
    "remember_neem(\"\")\n",
    "\n",
    "n = Neem()\n",
    "plot_events(n)\n"
   ]
  },
  {
   "cell_type": "markdown",
   "id": "f3073a8a",
   "metadata": {},
   "source": [
    "## Visualize the trajectory of objects\n",
    "Visualizing the trajectories is a little bit more complicated since you need to provide the TF generator of this object instead of the whole Neem. We will go through this step by step. First we start by creating a Python Neem instance from a NEEM loaded into Knowrob and get the object of which we want to visualize the trajectory."
   ]
  },
  {
   "cell_type": "code",
   "execution_count": 1,
   "id": "e87c44bc",
   "metadata": {},
   "outputs": [
    {
     "name": "stdout",
     "output_type": "stream",
     "text": [
      "[INFO] [1705500333.368648]: NEEM Object: NaturalPerson_CTYBCZBF has no tf_link_name therefore no tf pointer could be loaded\n",
      "[INFO] [1705500333.426558]: NEEM Object: NaturalPerson_CTYBCZBF has no tf_link_name therefore no tf pointer could be loaded\n",
      "[INFO] [1705500333.484601]: NEEM Object: NaturalPerson_CTYBCZBF has no tf_link_name therefore no tf pointer could be loaded\n",
      "[INFO] [1705500333.507748]: NEEM Object: NaturalPerson_CTYBCZBF has no tf_link_name therefore no tf pointer could be loaded\n",
      "[INFO] [1705500333.530390]: NEEM Object: NaturalPerson_CTYBCZBF has no tf_link_name therefore no tf pointer could be loaded\n",
      "[INFO] [1705500333.553928]: NEEM Object: NaturalPerson_CTYBCZBF has no tf_link_name therefore no tf pointer could be loaded\n",
      "[INFO] [1705500333.578339]: NEEM Object: NaturalPerson_CTYBCZBF has no tf_link_name therefore no tf pointer could be loaded\n",
      "[INFO] [1705500333.622372]: NEEM Object: TopRightDirection_1 has no tf_link_name therefore no tf pointer could be loaded\n",
      "[INFO] [1705500333.638918]: NEEM Object: NaturalPerson_CTYBCZBF has no tf_link_name therefore no tf pointer could be loaded\n",
      "[INFO] [1705500333.680769]: NEEM Object: TopRightDirection_1 has no tf_link_name therefore no tf pointer could be loaded\n"
     ]
    }
   ],
   "source": [
    "from neem_evaluator.neem import Neem\n",
    "\n",
    "n = Neem()\n",
    "\n",
    "hand_object = n.get_objects_by_name(\"right_hand_1\")\n"
   ]
  },
  {
   "cell_type": "markdown",
   "id": "7876087c",
   "metadata": {},
   "source": [
    "Next we need to create a simulation in which we can visualize the environment of the NEEM and the trajectory. Lastly, we get the tf generator from the hand object and pass it to the visualize_trajectory function of the simulation.\n",
    "\n",
    "To move the camera around in the simulation hold `CTRL` and use the mouse buttons. If you want to change the camera position use `CTRL` and middle mouse button."
   ]
  },
  {
   "cell_type": "code",
   "execution_count": 2,
   "id": "65dbca79",
   "metadata": {
    "ExecuteTime": {
     "end_time": "2024-01-15T15:25:49.261071214Z",
     "start_time": "2024-01-15T15:25:48.996558082Z"
    }
   },
   "outputs": [],
   "source": [
    "from neem_evaluator.bullet_world import BulletWorld, Object\n",
    "\n",
    "world = BulletWorld()\n",
    "\n",
    "apartment = Object(\"apartment\", \"Environment\", \"apartment.urdf\")\n",
    "\n",
    "world.visualize_trajectory(hand_object.get_tfs())"
   ]
  },
  {
   "cell_type": "markdown",
   "id": "e0565620",
   "metadata": {},
   "source": [
    "You can close the simulation with the cell below."
   ]
  },
  {
   "cell_type": "code",
   "execution_count": 3,
   "id": "7eb3b5cf",
   "metadata": {},
   "outputs": [],
   "source": [
    "world.exit()"
   ]
  },
  {
   "cell_type": "markdown",
   "id": "705b9de3",
   "metadata": {},
   "source": [
    "## Replay of Trajectories\n",
    "You can also replay the trajetory. For this you need an object that should be used to replay the trajectory e.g. the hand if you want to replay the trajectory of the hand and the TF data of the trajectory to be replayed. \n",
    "\n",
    "Replaying is also done in the BulletWorld, so if you already have a BulletWorld running you can skip the next step and just use it. "
   ]
  },
  {
   "cell_type": "code",
   "execution_count": 5,
   "id": "803fbd35",
   "metadata": {},
   "outputs": [
    {
     "name": "stdout",
     "output_type": "stream",
     "text": [
      "[INFO] [1705572692.285590]: NEEM Object: NaturalPerson_CTYBCZBF has no tf_link_name therefore no tf pointer could be loaded\n",
      "[INFO] [1705572692.349137]: NEEM Object: NaturalPerson_CTYBCZBF has no tf_link_name therefore no tf pointer could be loaded\n",
      "[INFO] [1705572692.409959]: NEEM Object: NaturalPerson_CTYBCZBF has no tf_link_name therefore no tf pointer could be loaded\n",
      "[INFO] [1705572692.434293]: NEEM Object: NaturalPerson_CTYBCZBF has no tf_link_name therefore no tf pointer could be loaded\n",
      "[INFO] [1705572692.458556]: NEEM Object: NaturalPerson_CTYBCZBF has no tf_link_name therefore no tf pointer could be loaded\n",
      "[INFO] [1705572692.482285]: NEEM Object: NaturalPerson_CTYBCZBF has no tf_link_name therefore no tf pointer could be loaded\n",
      "[INFO] [1705572692.507880]: NEEM Object: NaturalPerson_CTYBCZBF has no tf_link_name therefore no tf pointer could be loaded\n",
      "[INFO] [1705572692.553482]: NEEM Object: TopRightDirection_1 has no tf_link_name therefore no tf pointer could be loaded\n",
      "[INFO] [1705572692.570501]: NEEM Object: NaturalPerson_CTYBCZBF has no tf_link_name therefore no tf pointer could be loaded\n",
      "[INFO] [1705572692.616801]: NEEM Object: TopRightDirection_1 has no tf_link_name therefore no tf pointer could be loaded\n"
     ]
    }
   ],
   "source": [
    "from neem_evaluator.bullet_world import BulletWorld, Object\n",
    "from neem_evaluator.neem import Neem\n",
    "\n",
    "n = Neem()\n",
    "\n",
    "hand_object = n.get_objects_by_name(\"right_hand_1\")\n",
    "\n",
    "world = BulletWorld()\n",
    "\n",
    "apartment = Object(\"apartment\", \"Environment\", \"apartment.urdf\")\n",
    "right_hand = Object(\"right_hand\", \"hand\", \"right_hand.stl\")\n",
    "\n",
    "world.visualize_trajectory(hand_object.get_tfs())\n",
    "\n",
    "world.replay_trajectory(hand_object.get_tfs(), right_hand)"
   ]
  },
  {
   "cell_type": "markdown",
   "id": "865ac931",
   "metadata": {},
   "source": [
    "You can use the cell below to close the BulletWorld once you are finished. "
   ]
  },
  {
   "cell_type": "code",
   "execution_count": 6,
   "id": "6d5697a1",
   "metadata": {},
   "outputs": [],
   "source": [
    "world.exit()"
   ]
  }
 ],
 "metadata": {
  "kernelspec": {
   "display_name": "Python 3",
   "language": "python",
   "name": "python3"
  },
  "language_info": {
   "codemirror_mode": {
    "name": "ipython",
    "version": 3
   },
   "file_extension": ".py",
   "mimetype": "text/x-python",
   "name": "python",
   "nbconvert_exporter": "python",
   "pygments_lexer": "ipython3",
   "version": "3.8.10"
  }
 },
 "nbformat": 4,
 "nbformat_minor": 5
}
