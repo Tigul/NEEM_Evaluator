{
 "cells": [
  {
   "cell_type": "markdown",
   "id": "ab0c3bd1",
   "metadata": {},
   "source": [
    "# Neem Evaluation\n",
    "\n",
    "This example will provide you with an introduction to the evaluation of NEEMs. The evaluation of this package aims at the behaviour captured by the NEEM. \n",
    "\n",
    "There are two major parts of a NEEM which capture the events and behaviour in a NEEM. These parts are the NEEM experience and NEEM behaviour, the experience are the TF data of every object at every time while the behaviour are the semantic events that happend over the span of the NEEM. Both of them are evaluated seperatly. \n",
    "\n"
   ]
  },
  {
   "cell_type": "markdown",
   "id": "e56de295",
   "metadata": {},
   "source": [
    "## Install Neem_evaluator\n",
    "You need to have the Neem_evaluator python package installed for this example to work. \n",
    "\n",
    "To install the Neem_evaluator package navigate to the directory of the Neem_evaluator, open a terminal and enter the following command:\n",
    "~~~\n",
    "pip install .\n",
    "~~~\n"
   ]
  },
  {
   "cell_type": "markdown",
   "id": "1293f81d",
   "metadata": {},
   "source": [
    "## Loading a NEEM\n",
    "\n",
    "To evaluate a NEEM we need to load it first. There are two things that need to be loaded the first is the NEEM to knowrob, this needs to be done to query the NEEM and to access the data. The second one is the Neem class of the Neem evaluator, this is the basis for every metric that will be applied. The Neem class is a more simplistic representation of a NEEM as a Python data structure. \n",
    "\n",
    "To load the NEEM to Knowrob you need to start Knowrob first. You can start Knowrob by typing the following command into a terminal. \n",
    "~~~\n",
    "roslaunch knowrob knowrob.launch\n",
    "~~~\n",
    "\n",
    "To load a saved NEEM to knowrob we can use the ```remember_neem``` method which takes the path to the saved NEEM as an argument"
   ]
  },
  {
   "cell_type": "code",
   "execution_count": 10,
   "id": "0e7518de",
   "metadata": {},
   "outputs": [],
   "source": [
    "from neem_evaluator.knowrob import remember_neem\n",
    "\n",
    "remember_neem(\"/home/jdech/workspace/NEEM_Evaluator/PouringNEEMData/ApartmentLabNEEM\")"
   ]
  },
  {
   "cell_type": "markdown",
   "id": "67abc7f4",
   "metadata": {},
   "source": [
    "Lastly, we need to create an instance of the Neem class.  The Neem class is an internal representation of a NEEM loaded in Knowrob, this is done for easier use since it allows to treat a NEEM as a Python data structure."
   ]
  },
  {
   "cell_type": "code",
   "execution_count": 11,
   "id": "5da567bd",
   "metadata": {},
   "outputs": [
    {
     "name": "stdout",
     "output_type": "stream",
     "text": [
      "[INFO] [1702981633.522167]: NEEM Object: NaturalPerson_CTYBCZBF has no tf_link_name therefore no tf pointer could be loaded\n",
      "[INFO] [1702981633.587903]: NEEM Object: NaturalPerson_CTYBCZBF has no tf_link_name therefore no tf pointer could be loaded\n",
      "[INFO] [1702981633.651309]: NEEM Object: NaturalPerson_CTYBCZBF has no tf_link_name therefore no tf pointer could be loaded\n",
      "[INFO] [1702981633.679528]: NEEM Object: NaturalPerson_CTYBCZBF has no tf_link_name therefore no tf pointer could be loaded\n",
      "[INFO] [1702981633.706342]: NEEM Object: NaturalPerson_CTYBCZBF has no tf_link_name therefore no tf pointer could be loaded\n",
      "[INFO] [1702981633.732178]: NEEM Object: NaturalPerson_CTYBCZBF has no tf_link_name therefore no tf pointer could be loaded\n",
      "[INFO] [1702981633.756858]: NEEM Object: NaturalPerson_CTYBCZBF has no tf_link_name therefore no tf pointer could be loaded\n",
      "[INFO] [1702981633.805200]: NEEM Object: TopRightDirection_1 has no tf_link_name therefore no tf pointer could be loaded\n",
      "[INFO] [1702981633.823463]: NEEM Object: NaturalPerson_CTYBCZBF has no tf_link_name therefore no tf pointer could be loaded\n",
      "[INFO] [1702981633.871531]: NEEM Object: TopRightDirection_1 has no tf_link_name therefore no tf pointer could be loaded\n",
      "[Action(name=PhysicalTask, instance=http://www.ontologydesignpatterns.org/ont/dul/DUL.owl#Action_FZCBOOKP, start=1674729315.0, end=1674729329.0, relative_start=0, relative_end=0, participants=..., objects=..., neem=<neem_evaluator.neem.Neem object at 0x7f0348dfe400>), Action(name=Reaching, instance=http://www.ontologydesignpatterns.org/ont/dul/DUL.owl#Action_GHIWSFFF, start=1674729315.0, end=1674729318.0, relative_start=0, relative_end=0, participants=..., objects=..., neem=<neem_evaluator.neem.Neem object at 0x7f0348dfe400>), Action(name=Grasping, instance=http://www.ontologydesignpatterns.org/ont/dul/DUL.owl#Action_UHXPCWNG, start=1674729318.0, end=1674729327.0, relative_start=0, relative_end=0, participants=..., objects=..., neem=<neem_evaluator.neem.Neem object at 0x7f0348dfe400>), Action(name=Pouring, instance=http://www.ontologydesignpatterns.org/ont/dul/DUL.owl#Action_AFPVXICR, start=1674729322.0, end=1674729325.0, relative_start=0, relative_end=0, participants=..., objects=..., neem=<neem_evaluator.neem.Neem object at 0x7f0348dfe400>)]\n"
     ]
    }
   ],
   "source": [
    "from neem_evaluator.neem import Neem\n",
    "\n",
    "n = Neem()"
   ]
  },
  {
   "cell_type": "markdown",
   "id": "23f921e6",
   "metadata": {},
   "source": [
    "## Neem Experience\n",
    "\n",
    "We start by taking a look at the NEEM experience, since these are basically the trajectories of objects over the span of the NEEM we can evaluate how \"smooth\" a trajectory is. This is done by checking how often the direction of the trajectory is changing. "
   ]
  },
  {
   "cell_type": "code",
   "execution_count": 24,
   "id": "c3beb3ef",
   "metadata": {},
   "outputs": [
    {
     "name": "stdout",
     "output_type": "stream",
     "text": [
      "The result of the metric is: 73\n",
      "The sequences where the metric was triggered are: [  0 140 141 142 143 152 153 154 155 156 157 158 159 160 161 162 163 164\n",
      " 165 166 167 168 169 170 171 172 173 174 175 176 177 178 179 180 181 182\n",
      " 242 243 244 245 246 247 248 249 250 251 252 253 254 255 256 257 258 259\n",
      " 296 297 298 299 300 301 302 303 312 313 314 315 316 317 318 319 336 337\n",
      " 338 339 340 341 342 343 344 345 346 347 348 349 350 351 378 379 380 381\n",
      " 382 383 384 385 386 387 390 391 392 393 394 395 396 397 398 399 400 401\n",
      " 402 403 404 405 406 407]\n"
     ]
    }
   ],
   "source": [
    "from neem_evaluator.metrics import vel_metric\n",
    "\n",
    "hand_object = n.get_objects_by_name(\"right_hand_1\")\n",
    "metric, sequences = vel_metric(hand_object.get_tfs(), return_seq=True)\n",
    "\n",
    "print(f\"The result of the metric is: {metric}\")\n",
    "print(f\"The sequences where the metric was triggered are: {sequences}\")"
   ]
  },
  {
   "cell_type": "markdown",
   "id": "ec25781f",
   "metadata": {},
   "source": [
    "What you get from the velocity metric method are two things, the first is the number of times the metric was triggered meaning the number of times where the change in the direction was bigger than a specific threshold. The second one are the sequence numbers of TF frames where the metric was triggered. We can use these sequence numbers to visualize where the metric was triggered. Upon closer inspection you will find that the sequences are usually in clusters where a bunch of sequences are consconsecutively.\n"
   ]
  },
  {
   "cell_type": "markdown",
   "id": "c9ea442c",
   "metadata": {},
   "source": [
    "## Neem Behaviour\n",
    "Since the behaviour are the semantic events that happend during the NEEM and evaluating them needs a lot of contextual information. Meaning how good or bad a certain metric is can highly depend on the behaviour that is recorded in the NEEM, since this makes it especially hard to evaluate the semantic events we opted for some sort of \"expert-system\" where a bunch of different metrics will be applied to the NEEM behaviour and presented as-is. \n",
    "\n",
    "It is then the task of the user to check which metrics are applicable to the current NEEM and use them for evaluation. \n",
    "\n",
    "As already stated, behaviour evaluation is extremly context dependend. As an attempt to incorporate context into the metrics all metrics compare the NEEM which should be evaluated to an \"optimal\" NEEM which was hand-picked by the evaluator as an example on how the task should be performed. Every other NEEM is then evaluated by its deviation from this \"optimal\" NEEM.\n",
    "\n",
    "Since Knowrob can only load one NEEM at the time but we need two NEEMs for the behaviour evaluation we developed a serialization mechanism for NEEMs which allows to store and load NEEMs as json files. To serialize a NEEM you need to load it into Knowrob and create an instance of the Neem class, then just call ``save(filepath)`` on the instance and the NEEM will be serialized and stored. \n"
   ]
  },
  {
   "cell_type": "code",
   "execution_count": 26,
   "id": "64aeae7d",
   "metadata": {},
   "outputs": [],
   "source": [
    "n.save(\"stored_NEEM.json\")"
   ]
  },
  {
   "cell_type": "markdown",
   "id": "72e6d225",
   "metadata": {},
   "source": [
    "To load a serilized NEEM from a json file just use the path to the json file as an argument when creating the instance of the Neem class. "
   ]
  },
  {
   "cell_type": "code",
   "execution_count": null,
   "id": "f1895c2d",
   "metadata": {},
   "outputs": [],
   "source": [
    "loaded_neem = Neem(\"stored_NEEM.json\")"
   ]
  },
  {
   "cell_type": "markdown",
   "id": "101161c0",
   "metadata": {},
   "source": [
    "Now that we have two NEEMs, one from Knowrob and one loaded from a json file, we can use the respective metric to evaluate the NEEM behaviour between these two. "
   ]
  },
  {
   "cell_type": "code",
   "execution_count": 25,
   "id": "1f260361",
   "metadata": {},
   "outputs": [
    {
     "ename": "AttributeError",
     "evalue": "'Neem' object has no attribute 'action_tf_offset'",
     "output_type": "error",
     "traceback": [
      "\u001b[0;31m---------------------------------------------------------------------------\u001b[0m",
      "\u001b[0;31mAttributeError\u001b[0m                            Traceback (most recent call last)",
      "Cell \u001b[0;32mIn[25], line 3\u001b[0m\n\u001b[1;32m      1\u001b[0m \u001b[38;5;28;01mfrom\u001b[39;00m \u001b[38;5;21;01mneem_evaluator\u001b[39;00m\u001b[38;5;21;01m.\u001b[39;00m\u001b[38;5;21;01mevents\u001b[39;00m \u001b[38;5;28;01mimport\u001b[39;00m event_metric\n\u001b[0;32m----> 3\u001b[0m \u001b[43mevent_metric\u001b[49m\u001b[43m(\u001b[49m\u001b[43mn\u001b[49m\u001b[43m,\u001b[49m\u001b[43m \u001b[49m\u001b[43mn\u001b[49m\u001b[43m)\u001b[49m\n",
      "File \u001b[0;32m~/workspace/NEEM_Evaluator/src/neem_evaluator/events.py:87\u001b[0m, in \u001b[0;36mevent_metric\u001b[0;34m(neem1, neem2)\u001b[0m\n\u001b[1;32m     85\u001b[0m results \u001b[38;5;241m=\u001b[39m {}\n\u001b[1;32m     86\u001b[0m results[\u001b[38;5;124m\"\u001b[39m\u001b[38;5;124mco-appearance\u001b[39m\u001b[38;5;124m\"\u001b[39m] \u001b[38;5;241m=\u001b[39m co_appearance_of_events(neem1, neem2)\n\u001b[0;32m---> 87\u001b[0m results[\u001b[38;5;124m\"\u001b[39m\u001b[38;5;124mrelative-distance\u001b[39m\u001b[38;5;124m\"\u001b[39m] \u001b[38;5;241m=\u001b[39m \u001b[43mrelative_distance_of_events\u001b[49m\u001b[43m(\u001b[49m\u001b[43mneem1\u001b[49m\u001b[43m,\u001b[49m\u001b[43m \u001b[49m\u001b[43mneem2\u001b[49m\u001b[43m)\u001b[49m\n\u001b[1;32m     88\u001b[0m results[\u001b[38;5;124m\"\u001b[39m\u001b[38;5;124mtime-ordered\u001b[39m\u001b[38;5;124m\"\u001b[39m] \u001b[38;5;241m=\u001b[39m [[act\u001b[38;5;241m.\u001b[39mname \u001b[38;5;28;01mfor\u001b[39;00m act \u001b[38;5;129;01min\u001b[39;00m neem1\u001b[38;5;241m.\u001b[39maction_list],\n\u001b[1;32m     89\u001b[0m                            [act\u001b[38;5;241m.\u001b[39mname \u001b[38;5;28;01mfor\u001b[39;00m act \u001b[38;5;129;01min\u001b[39;00m neem2\u001b[38;5;241m.\u001b[39maction_list]]\n\u001b[1;32m     90\u001b[0m results[\u001b[38;5;124m\"\u001b[39m\u001b[38;5;124maction-count\u001b[39m\u001b[38;5;124m\"\u001b[39m] \u001b[38;5;241m=\u001b[39m [event_count_of_same_type(neem1), event_count_of_same_type(neem2)]\n",
      "File \u001b[0;32m~/workspace/NEEM_Evaluator/src/neem_evaluator/helper.py:170\u001b[0m, in \u001b[0;36mrelative_distance_of_events\u001b[0;34m(neem1, neem2)\u001b[0m\n\u001b[1;32m    162\u001b[0m \u001b[38;5;28;01mdef\u001b[39;00m \u001b[38;5;21mrelative_distance_of_events\u001b[39m(neem1: \u001b[38;5;124m'\u001b[39m\u001b[38;5;124mNEEM\u001b[39m\u001b[38;5;124m'\u001b[39m, neem2: \u001b[38;5;124m'\u001b[39m\u001b[38;5;124mNEEM\u001b[39m\u001b[38;5;124m'\u001b[39m) \u001b[38;5;241m-\u001b[39m\u001b[38;5;241m>\u001b[39m Dict[Tuple[\u001b[38;5;124m'\u001b[39m\u001b[38;5;124mAction\u001b[39m\u001b[38;5;124m'\u001b[39m, \u001b[38;5;124m'\u001b[39m\u001b[38;5;124mAction\u001b[39m\u001b[38;5;124m'\u001b[39m], Tuple[ArrayLike, ArrayLike]]:\n\u001b[1;32m    163\u001b[0m \u001b[38;5;250m    \u001b[39m\u001b[38;5;124;03m\"\"\"\u001b[39;00m\n\u001b[1;32m    164\u001b[0m \u001b[38;5;124;03m    Calculates the relative distance of events of the same type between two events.\u001b[39;00m\n\u001b[1;32m    165\u001b[0m \n\u001b[0;32m   (...)\u001b[0m\n\u001b[1;32m    168\u001b[0m \u001b[38;5;124;03m    :return: A dictionary with a Tuple of events as key and the relative start and end poses as values\u001b[39;00m\n\u001b[1;32m    169\u001b[0m \u001b[38;5;124;03m    \"\"\"\u001b[39;00m\n\u001b[0;32m--> 170\u001b[0m     event_distances1 \u001b[38;5;241m=\u001b[39m \u001b[43mevent_start_and_end_pose\u001b[49m\u001b[43m(\u001b[49m\u001b[43mneem1\u001b[49m\u001b[43m)\u001b[49m\n\u001b[1;32m    171\u001b[0m     event_distances2 \u001b[38;5;241m=\u001b[39m event_start_and_end_pose(neem2)\n\u001b[1;32m    172\u001b[0m     res \u001b[38;5;241m=\u001b[39m {}\n",
      "File \u001b[0;32m~/workspace/NEEM_Evaluator/src/neem_evaluator/helper.py:194\u001b[0m, in \u001b[0;36mevent_start_and_end_pose\u001b[0;34m(neem)\u001b[0m\n\u001b[1;32m    192\u001b[0m last_positions \u001b[38;5;241m=\u001b[39m []\n\u001b[1;32m    193\u001b[0m \u001b[38;5;28;01mfor\u001b[39;00m obj \u001b[38;5;129;01min\u001b[39;00m action\u001b[38;5;241m.\u001b[39mobjects:\n\u001b[0;32m--> 194\u001b[0m     tfs \u001b[38;5;241m=\u001b[39m \u001b[43mobj\u001b[49m\u001b[38;5;241;43m.\u001b[39;49m\u001b[43mget_tfs_during_action\u001b[49m\u001b[43m(\u001b[49m\u001b[43maction\u001b[49m\u001b[43m)\u001b[49m\n\u001b[1;32m    195\u001b[0m     \u001b[38;5;28;01mif\u001b[39;00m \u001b[38;5;129;01mnot\u001b[39;00m tfs:\n\u001b[1;32m    196\u001b[0m         \u001b[38;5;28;01mcontinue\u001b[39;00m\n",
      "File \u001b[0;32m~/workspace/NEEM_Evaluator/src/neem_evaluator/neem.py:112\u001b[0m, in \u001b[0;36mNeemObject.get_tfs_during_action\u001b[0;34m(self, action)\u001b[0m\n\u001b[1;32m    104\u001b[0m \u001b[38;5;250m\u001b[39m\u001b[38;5;124;03m\"\"\"\u001b[39;00m\n\u001b[1;32m    105\u001b[0m \u001b[38;5;124;03mReturns the TFs for this Object during an action. This method also takes the offset between TFs and actions into\u001b[39;00m\n\u001b[1;32m    106\u001b[0m \u001b[38;5;124;03maccount.\u001b[39;00m\n\u001b[0;32m   (...)\u001b[0m\n\u001b[1;32m    109\u001b[0m \u001b[38;5;124;03m:return:\u001b[39;00m\n\u001b[1;32m    110\u001b[0m \u001b[38;5;124;03m\"\"\"\u001b[39;00m\n\u001b[1;32m    111\u001b[0m \u001b[38;5;28;01mif\u001b[39;00m \u001b[38;5;28mself\u001b[39m\u001b[38;5;241m.\u001b[39m_tf:\n\u001b[0;32m--> 112\u001b[0m     \u001b[38;5;28;01mreturn\u001b[39;00m \u001b[38;5;28mlist\u001b[39m(tf\u001b[38;5;241m.\u001b[39mfind({\u001b[38;5;124m\"\u001b[39m\u001b[38;5;124mheader.stamp\u001b[39m\u001b[38;5;124m\"\u001b[39m: {\u001b[38;5;124m\"\u001b[39m\u001b[38;5;124m$gt\u001b[39m\u001b[38;5;124m\"\u001b[39m: datetime\u001b[38;5;241m.\u001b[39mfromtimestamp(action\u001b[38;5;241m.\u001b[39mstart \u001b[38;5;241m-\u001b[39m \u001b[38;5;28;43mself\u001b[39;49m\u001b[38;5;241;43m.\u001b[39;49m\u001b[43maction\u001b[49m\u001b[38;5;241;43m.\u001b[39;49m\u001b[43mneem\u001b[49m\u001b[38;5;241;43m.\u001b[39;49m\u001b[43maction_tf_offset\u001b[49m),\n\u001b[1;32m    113\u001b[0m                                           \u001b[38;5;124m\"\u001b[39m\u001b[38;5;124m$lt\u001b[39m\u001b[38;5;124m\"\u001b[39m: datetime\u001b[38;5;241m.\u001b[39mfromtimestamp(action\u001b[38;5;241m.\u001b[39mend \u001b[38;5;241m-\u001b[39m \u001b[38;5;28mself\u001b[39m\u001b[38;5;241m.\u001b[39maction\u001b[38;5;241m.\u001b[39mneem\u001b[38;5;241m.\u001b[39maction_tf_offset)},\n\u001b[1;32m    114\u001b[0m                 \u001b[38;5;124m\"\u001b[39m\u001b[38;5;124mchild_frame_id\u001b[39m\u001b[38;5;124m\"\u001b[39m: \u001b[38;5;28mself\u001b[39m\u001b[38;5;241m.\u001b[39mlink_name}))\n\u001b[1;32m    115\u001b[0m \u001b[38;5;28;01melse\u001b[39;00m:\n\u001b[1;32m    116\u001b[0m     start_index \u001b[38;5;241m=\u001b[39m \u001b[38;5;241m0\u001b[39m\n",
      "\u001b[0;31mAttributeError\u001b[0m: 'Neem' object has no attribute 'action_tf_offset'"
     ]
    }
   ],
   "source": [
    "from neem_evaluator.events import event_metric\n",
    "\n",
    "event_metric(n, n)"
   ]
  }
 ],
 "metadata": {
  "kernelspec": {
   "display_name": "Python 3",
   "language": "python",
   "name": "python3"
  }
 },
 "nbformat": 4,
 "nbformat_minor": 5
}
